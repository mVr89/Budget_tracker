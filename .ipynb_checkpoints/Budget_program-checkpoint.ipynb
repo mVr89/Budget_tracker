{
 "cells": [
  {
   "cell_type": "markdown",
   "id": "452b0a15-b740-492e-9145-1e89dec0d0b5",
   "metadata": {},
   "source": [
    "### Program to track and save monthly expenses"
   ]
  },
  {
   "cell_type": "markdown",
   "id": "0d2ca965-a080-4b6b-ab53-d13705f51989",
   "metadata": {},
   "source": [
    "The program does the following tasks:\n",
    "* Takes income, expenses details from user\n",
    "* Calculates savings\n",
    "* Stores it in a Python dictionary\n",
    "* Allows user to store this dictionary as JSON file in local system"
   ]
  },
  {
   "cell_type": "code",
   "execution_count": 11,
   "id": "eaaab596-7e78-4e95-9c06-2034d77d48a1",
   "metadata": {},
   "outputs": [],
   "source": [
    "# Takes expense details from user and returns a Python dictionary\n",
    "\n",
    "def user_inp():\n",
    "  exp_count=int(input('Enter number of expenses for the month: '))\n",
    "  exp={}\n",
    "  for count in range(exp_count):\n",
    "    exp_name,ex=str(input(f'Enter the name and amount for {count+1} expense of the month:')).split()\n",
    "    # ex=float(input(f'Enter your {count+1} expense of the month:'))\n",
    "    exp[exp_name]=float(ex)\n",
    "  return exp"
   ]
  },
  {
   "cell_type": "code",
   "execution_count": 12,
   "id": "5df9c969-2f0a-4d83-bd30-601ee6a99234",
   "metadata": {},
   "outputs": [],
   "source": [
    "# Calculates savings as returns the saving amount as per income and expense\n",
    "\n",
    "def savings(income, expenses):\n",
    "  savings= income - sum(expenses)\n",
    "\n",
    "  return savings"
   ]
  },
  {
   "cell_type": "code",
   "execution_count": 13,
   "id": "7675c9e6-6c94-4f63-9f2d-e710c3dd0410",
   "metadata": {},
   "outputs": [],
   "source": [
    "# Saves the dictionary as JSON in local system\n",
    "\n",
    "def save_json(budget):\n",
    "  import json\n",
    "  budget_details=json.dumps(budget)\n",
    "  filename=str(input('Enter the name of the file: '))\n",
    "  with open(filename+'.json','w') as json_file:\n",
    "    json_file.write(budget_details)"
   ]
  },
  {
   "cell_type": "code",
   "execution_count": 14,
   "id": "19618f88-e271-45ca-bae1-312540462cd5",
   "metadata": {},
   "outputs": [
    {
     "name": "stdout",
     "output_type": "stream",
     "text": [
      "Welcome to budget tracker\n"
     ]
    },
    {
     "name": "stdin",
     "output_type": "stream",
     "text": [
      "Enter your monthly income(Rs):  1000\n",
      "Enter number of expenses for the month:  2\n",
      "Enter the name and amount for 1 expense of the month: travel 100\n",
      "Enter the name and amount for 2 expense of the month: rent 200\n"
     ]
    },
    {
     "name": "stdout",
     "output_type": "stream",
     "text": [
      "{'income': 1000.0, 'expenses': {'travel': 100.0, 'rent': 200.0}, 'savings': 700.0}\n"
     ]
    },
    {
     "name": "stdin",
     "output_type": "stream",
     "text": [
      "Do you want to save this data in local system as JSON file?[Y/N]:  n\n"
     ]
    },
    {
     "name": "stdout",
     "output_type": "stream",
     "text": [
      "Ok, but here is the budget in dictionary as reference\n",
      "{'income': 1000.0, 'expenses': {'travel': 100.0, 'rent': 200.0}, 'savings': 700.0}\n"
     ]
    }
   ],
   "source": [
    "# Main program\n",
    "print('Welcome to budget tracker')\n",
    "inc=float(input('Enter your monthly income(Rs): '))\n",
    "expenses = user_inp() # takes input from user\n",
    "saving=savings(inc, expenses.values()) # calculates the savings\n",
    "budget={ 'income': inc,\n",
    "        'expenses': expenses,\n",
    "         'savings': saving\n",
    "         }\n",
    "print(budget)\n",
    "storage_msg='Do you want to save this data in local system as JSON file?[Y/N]: '\n",
    "resp=str(input(storage_msg))\n",
    "if resp.upper()=='Y':\n",
    "  print('Saving the data locally...')\n",
    "  save_json(budget)\n",
    "  print('File saved succesfully!!')\n",
    "else:\n",
    "  print('Ok, but here is the budget in dictionary as reference')\n",
    "  print(budget)"
   ]
  },
  {
   "cell_type": "markdown",
   "id": "16cb317a-8a78-4141-9c62-7ab7767aaab5",
   "metadata": {},
   "source": [
    "## Assets and Liabilities"
   ]
  },
  {
   "cell_type": "markdown",
   "id": "d155a777-3c06-484a-bd47-05c4e83f725b",
   "metadata": {},
   "source": [
    "A fucntion to get `asset`, `liabilities` and `net worth`"
   ]
  },
  {
   "cell_type": "code",
   "execution_count": 23,
   "id": "38965113-ee44-41d2-a28e-25c665ca44cc",
   "metadata": {},
   "outputs": [],
   "source": [
    "# A function to get assets and liabilities from user\n",
    "def asset_liable():\n",
    "    asset_count=int(input(('Enter the number of assets owned:  ')))\n",
    "    assets={}\n",
    "    for count in range(asset_count):\n",
    "        name,value=input(f'Enter name, amount for {count+1} asset: ').split()\n",
    "        assets[name]=float(value)\n",
    "    assets['savings']=budget['savings']\n",
    "    lia_count=int(input(('Enter the number of liablities owned:  ')))\n",
    "    liable={}\n",
    "    for count in range(lia_count):\n",
    "        name,value=input(f'Enter name, amount for {count+1} liable: ').split()\n",
    "        liable[name]=float(value)\n",
    "    balance={'assets':assets,\n",
    "           'liabilities':liable}\n",
    "    return balance"
   ]
  },
  {
   "cell_type": "code",
   "execution_count": 21,
   "id": "30287b14-b5a5-4a1d-904b-deb03d0c49ee",
   "metadata": {},
   "outputs": [],
   "source": [
    "# Calculating 'net worth'\n",
    "def worth(assets,liabilities):\n",
    "  return sum(assets)-sum(liabilities)"
   ]
  },
  {
   "cell_type": "code",
   "execution_count": 24,
   "id": "ffa2ee4d-c8fa-4136-bda6-6cbb22f4c727",
   "metadata": {},
   "outputs": [
    {
     "name": "stdin",
     "output_type": "stream",
     "text": [
      "Enter the number of assets owned:   2\n",
      "Enter name, amount for 1 asset:  land 100\n",
      "Enter name, amount for 2 asset:  gold 200\n",
      "Enter the number of liablities owned:   1\n",
      "Enter name, amount for 1 liable:  loan 100\n"
     ]
    },
    {
     "name": "stdout",
     "output_type": "stream",
     "text": [
      "{'assets': {'land': 100.0, 'gold': 200.0, 'savings': 700.0}, 'liabilities': {'loan': 100.0}}\n"
     ]
    }
   ],
   "source": [
    "m=asset_liable()\n",
    "print(m)"
   ]
  },
  {
   "cell_type": "code",
   "execution_count": 25,
   "id": "c43a65c5-71df-4f5c-87c1-a8bd0096d5a7",
   "metadata": {},
   "outputs": [
    {
     "name": "stdout",
     "output_type": "stream",
     "text": [
      "900.0\n"
     ]
    }
   ],
   "source": [
    "w=worth(m['assets'].values(),m['liabilities'].values())\n",
    "print(w)"
   ]
  },
  {
   "cell_type": "code",
   "execution_count": 19,
   "id": "87ced850-baee-4b17-8c26-ebb6a75a7808",
   "metadata": {},
   "outputs": [
    {
     "data": {
      "text/plain": [
       "700.0"
      ]
     },
     "execution_count": 19,
     "metadata": {},
     "output_type": "execute_result"
    }
   ],
   "source": [
    "budget['savings']"
   ]
  },
  {
   "cell_type": "code",
   "execution_count": null,
   "id": "a8ac3c1d-96c5-427c-ab2d-4fd2855fbec4",
   "metadata": {},
   "outputs": [],
   "source": []
  }
 ],
 "metadata": {
  "kernelspec": {
   "display_name": "Python 3 (ipykernel)",
   "language": "python",
   "name": "python3"
  },
  "language_info": {
   "codemirror_mode": {
    "name": "ipython",
    "version": 3
   },
   "file_extension": ".py",
   "mimetype": "text/x-python",
   "name": "python",
   "nbconvert_exporter": "python",
   "pygments_lexer": "ipython3",
   "version": "3.12.2"
  }
 },
 "nbformat": 4,
 "nbformat_minor": 5
}
