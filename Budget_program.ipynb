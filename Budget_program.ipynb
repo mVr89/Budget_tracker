{
 "cells": [
  {
   "cell_type": "markdown",
   "id": "452b0a15-b740-492e-9145-1e89dec0d0b5",
   "metadata": {},
   "source": [
    "### Program to track and save monthly expenses"
   ]
  },
  {
   "cell_type": "markdown",
   "id": "0d2ca965-a080-4b6b-ab53-d13705f51989",
   "metadata": {},
   "source": [
    "The program does the following tasks:\n",
    "* Takes income, expenses details from user\n",
    "* Calculates savings\n",
    "* Stores it in a Python dictionary\n",
    "* Allows user to store this dictionary as JSON file in local system"
   ]
  },
  {
   "cell_type": "code",
   "execution_count": 5,
   "id": "eaaab596-7e78-4e95-9c06-2034d77d48a1",
   "metadata": {},
   "outputs": [],
   "source": [
    "# Takes expense details from user and returns a Python dictionary\n",
    "\n",
    "def user_inp():\n",
    "  exp_count=int(input('Enter number of expenses for the month: '))\n",
    "  exp={}\n",
    "  for count in range(exp_count):\n",
    "    exp_name,ex=str(input(f'Enter the name and amount for {count+1} expense of the month:')).split()\n",
    "    # ex=float(input(f'Enter your {count+1} expense of the month:'))\n",
    "    exp[exp_name]=float(ex)\n",
    "  return exp"
   ]
  },
  {
   "cell_type": "code",
   "execution_count": 6,
   "id": "5df9c969-2f0a-4d83-bd30-601ee6a99234",
   "metadata": {},
   "outputs": [],
   "source": [
    "# Calculates savings as returns the saving amount as per income and expense\n",
    "\n",
    "def savings(income, expenses):\n",
    "  savings= income - sum(expenses)\n",
    "\n",
    "  return savings"
   ]
  },
  {
   "cell_type": "code",
   "execution_count": 7,
   "id": "7675c9e6-6c94-4f63-9f2d-e710c3dd0410",
   "metadata": {},
   "outputs": [],
   "source": [
    "# Saves the dictionary as JSON in local system\n",
    "\n",
    "def save_json(budget):\n",
    "  import json\n",
    "  budget_details=json.dumps(budget)\n",
    "  filename=str(input('Enter the name of the file: '))\n",
    "  with open(filename+'.json','w') as json_file:\n",
    "    json_file.write(budget_details)"
   ]
  },
  {
   "cell_type": "code",
   "execution_count": 8,
   "id": "19618f88-e271-45ca-bae1-312540462cd5",
   "metadata": {},
   "outputs": [
    {
     "name": "stdout",
     "output_type": "stream",
     "text": [
      "Welcome to budget tracker\n"
     ]
    },
    {
     "name": "stdin",
     "output_type": "stream",
     "text": [
      "Enter your monthly income(Rs):  100\n",
      "Enter number of expenses for the month:  3\n",
      "Enter the name and amount for 1 expense of the month: Travel 2\n",
      "Enter the name and amount for 2 expense of the month: Food 3\n",
      "Enter the name and amount for 3 expense of the month: Party 3\n"
     ]
    },
    {
     "name": "stdout",
     "output_type": "stream",
     "text": [
      "{'income': 100.0, 'expenses': {'Travel': 2.0, 'Food': 3.0, 'Party': 3.0}, 'savings': 92.0}\n"
     ]
    },
    {
     "name": "stdin",
     "output_type": "stream",
     "text": [
      "Do you want to save this data in local system as JSON file?[Y/N]:  Y\n"
     ]
    },
    {
     "name": "stdout",
     "output_type": "stream",
     "text": [
      "Saving the data locally...\n"
     ]
    },
    {
     "name": "stdin",
     "output_type": "stream",
     "text": [
      "Enter the name of the file:  August_budget\n"
     ]
    },
    {
     "name": "stdout",
     "output_type": "stream",
     "text": [
      "File saved succesfully!!\n"
     ]
    }
   ],
   "source": [
    "# Main program\n",
    "print('Welcome to budget tracker')\n",
    "inc=float(input('Enter your monthly income(Rs): '))\n",
    "expenses = user_inp() # takes input from user\n",
    "saving=savings(inc, expenses.values()) # calculates the savings\n",
    "budget={ 'income': inc,\n",
    "        'expenses': expenses,\n",
    "         'savings': saving\n",
    "         }\n",
    "print(budget)\n",
    "storage_msg='Do you want to save this data in local system as JSON file?[Y/N]: '\n",
    "resp=str(input(storage_msg))\n",
    "if resp.upper()=='Y':\n",
    "  print('Saving the data locally...')\n",
    "  save_json(budget)\n",
    "  print('File saved succesfully!!')\n",
    "else:\n",
    "  print('Ok, but here is the budget in dictionary as reference')\n",
    "  print(budget)"
   ]
  },
  {
   "cell_type": "code",
   "execution_count": null,
   "id": "9db5e2e7-29cd-4a99-b763-482c0039daf7",
   "metadata": {},
   "outputs": [],
   "source": []
  }
 ],
 "metadata": {
  "kernelspec": {
   "display_name": "Python 3 (ipykernel)",
   "language": "python",
   "name": "python3"
  },
  "language_info": {
   "codemirror_mode": {
    "name": "ipython",
    "version": 3
   },
   "file_extension": ".py",
   "mimetype": "text/x-python",
   "name": "python",
   "nbconvert_exporter": "python",
   "pygments_lexer": "ipython3",
   "version": "3.12.2"
  }
 },
 "nbformat": 4,
 "nbformat_minor": 5
}
